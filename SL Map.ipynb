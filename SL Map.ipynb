{
 "metadata": {
  "name": "",
  "signature": "sha256:788180c84e615250847f9c63898b9d62e96f7ac17f9132b3fd4e2fd38a6219d6"
 },
 "nbformat": 3,
 "nbformat_minor": 0,
 "worksheets": [
  {
   "cells": [
    {
     "cell_type": "markdown",
     "metadata": {},
     "source": [
      "[home](http://www.brandonrose.org)"
     ]
    },
    {
     "cell_type": "heading",
     "level": 1,
     "metadata": {},
     "source": [
      "Create a filled map (chloropleth) with Python"
     ]
    },
    {
     "cell_type": "markdown",
     "metadata": {},
     "source": [
      "<img src='pymap3.png'>"
     ]
    },
    {
     "cell_type": "markdown",
     "metadata": {},
     "source": [
      "First, big thanks to Stephan H\u00fcgel for his excellent [guide to mapping with Python](http://sensitivecities.com/so-youd-like-to-make-a-map-using-python-EN.html#.VNZHhVXF8kR). To create this guide, I heavily borrowed from Stephan's work, but tried to provide more contextualizing comment to ensure that a less advanced user can create their own filled map."
     ]
    },
    {
     "cell_type": "markdown",
     "metadata": {},
     "source": [
      "For this guide, I focus on creating a filled map of Sri Lanka. I use some basic demographic data plus a shapefile that includes the first level of administration (for example, in the United States this is a state) to demonstrate how to create and manipulate a filled map with Python.\n",
      "\n",
      "The shapefile I obtained is from the [Spatial Data Repository](http://spatialdata.dhsprogram.com/boundaries/#countryId=LK&view=map&surveyId=19&level=1) where you can find detailed shapefiles for most countries. \n",
      "\n",
      "You can find the whole repository for this project on <a href=\"https://github.com/brandomr/pythonmap\">GitHub</a>. Feel free to hit me up with questions on Twitter @brandonmrose."
     ]
    },
    {
     "cell_type": "heading",
     "level": 2,
     "metadata": {},
     "source": [
      "Contents"
     ]
    },
    {
     "cell_type": "markdown",
     "metadata": {},
     "source": [
      "<ul>\n",
      "<li>[Reading in the dataset](#Reading-in-the-dataset)\n",
      "<li>[Loading in the shapefile](#Loading-in-the-shapefile)\n",
      "<li>[Create the basemap](#Create-the-basemap)\n",
      "<li>[Setting up the map dataframe](#Setting-up-the-map-dataframe)\n",
      "<li>[Binning the data](#Binning-the-data)\n",
      "<li>[Plotting the map](#Plotting-the-Map)\n",
      "</ul>"
     ]
    },
    {
     "cell_type": "markdown",
     "metadata": {},
     "source": [
      "Up front, you are going to need to install some packages you might not have used before. I had to install pysal, descartes, shapely, and Basemap. Install Basemap with:\n",
      "\n",
      "    pip install basemap --allow-external basemap --allow-unverified basemap"
     ]
    },
    {
     "cell_type": "code",
     "collapsed": false,
     "input": [
      "import pandas as pd\n",
      "import numpy as np\n",
      "import matplotlib\n",
      "import matplotlib.pyplot as plt\n",
      "import matplotlib.cm as cm\n",
      "from matplotlib.colors import Normalize\n",
      "from matplotlib.collections import PatchCollection\n",
      "from mpl_toolkits.basemap import Basemap\n",
      "from shapely.geometry import Point, Polygon, MultiPoint, MultiPolygon\n",
      "from shapely.prepared import prep\n",
      "from pysal.esda.mapclassify import Natural_Breaks as nb\n",
      "from descartes import PolygonPatch\n",
      "import fiona\n",
      "from itertools import chain\n",
      "import pysal.esda.mapclassify as mapclassify"
     ],
     "language": "python",
     "metadata": {},
     "outputs": [],
     "prompt_number": 1
    },
    {
     "cell_type": "heading",
     "level": 2,
     "metadata": {},
     "source": [
      "Reading in the dataset"
     ]
    },
    {
     "cell_type": "markdown",
     "metadata": {},
     "source": [
      "I read in the dataset using Pandas. The primary dataset is just a .csv file where each row represents a *district* (state/province) along with the total population numbers per district plus population numbers for the three major ethnic groups. I've also already calculated the percent of the total population accounted for by each ethnic group. For example, in Colombo, 77% of the population is Sinhalese.\n",
      "\n",
      "I read in the dataset using Pandas; it's automatically read in as a dataframe. If you're not familiar with Pandas you can learn more [here](http://pandas.pydata.org/). It is a go-to for data analysis with Python."
     ]
    },
    {
     "cell_type": "code",
     "collapsed": false,
     "input": [
      "data = pd.read_csv('srl_pop.csv')"
     ],
     "language": "python",
     "metadata": {},
     "outputs": [],
     "prompt_number": 2
    },
    {
     "cell_type": "code",
     "collapsed": false,
     "input": [
      "#print the first 5 rows of data to see what it looks like and make sure it read in properly\n",
      "data.head()"
     ],
     "language": "python",
     "metadata": {},
     "outputs": [
      {
       "html": [
        "<div style=\"max-height:1000px;max-width:1500px;overflow:auto;\">\n",
        "<table border=\"1\" class=\"dataframe\">\n",
        "  <thead>\n",
        "    <tr style=\"text-align: right;\">\n",
        "      <th></th>\n",
        "      <th>District_1</th>\n",
        "      <th>Total_pop</th>\n",
        "      <th>Sinhalese</th>\n",
        "      <th>Tamils</th>\n",
        "      <th>Muslims</th>\n",
        "      <th>Others</th>\n",
        "      <th>Sinhalese_pct</th>\n",
        "      <th>Tamils_pct</th>\n",
        "      <th>Muslims_pct</th>\n",
        "      <th>Others_pct</th>\n",
        "    </tr>\n",
        "  </thead>\n",
        "  <tbody>\n",
        "    <tr>\n",
        "      <th>0</th>\n",
        "      <td>  Colombo</td>\n",
        "      <td> 2309809</td>\n",
        "      <td> 1771319</td>\n",
        "      <td> 258654</td>\n",
        "      <td> 242728</td>\n",
        "      <td> 37108</td>\n",
        "      <td> 77</td>\n",
        "      <td> 11</td>\n",
        "      <td> 11</td>\n",
        "      <td> 2</td>\n",
        "    </tr>\n",
        "    <tr>\n",
        "      <th>1</th>\n",
        "      <td>  Gampaha</td>\n",
        "      <td> 2294641</td>\n",
        "      <td> 2079115</td>\n",
        "      <td>  90950</td>\n",
        "      <td>  95501</td>\n",
        "      <td> 29075</td>\n",
        "      <td> 91</td>\n",
        "      <td>  4</td>\n",
        "      <td>  4</td>\n",
        "      <td> 1</td>\n",
        "    </tr>\n",
        "    <tr>\n",
        "      <th>2</th>\n",
        "      <td> Kalutara</td>\n",
        "      <td> 1217260</td>\n",
        "      <td> 1054991</td>\n",
        "      <td>  47973</td>\n",
        "      <td> 112276</td>\n",
        "      <td>  2020</td>\n",
        "      <td> 87</td>\n",
        "      <td>  4</td>\n",
        "      <td>  9</td>\n",
        "      <td> 0</td>\n",
        "    </tr>\n",
        "    <tr>\n",
        "      <th>3</th>\n",
        "      <td>    Kandy</td>\n",
        "      <td> 1369899</td>\n",
        "      <td> 1018323</td>\n",
        "      <td> 154874</td>\n",
        "      <td> 191159</td>\n",
        "      <td>  5543</td>\n",
        "      <td> 74</td>\n",
        "      <td> 11</td>\n",
        "      <td> 14</td>\n",
        "      <td> 0</td>\n",
        "    </tr>\n",
        "    <tr>\n",
        "      <th>4</th>\n",
        "      <td>   Matale</td>\n",
        "      <td>  482229</td>\n",
        "      <td>  389092</td>\n",
        "      <td>  48156</td>\n",
        "      <td>  44113</td>\n",
        "      <td>   868</td>\n",
        "      <td> 81</td>\n",
        "      <td> 10</td>\n",
        "      <td>  9</td>\n",
        "      <td> 0</td>\n",
        "    </tr>\n",
        "  </tbody>\n",
        "</table>\n",
        "</div>"
       ],
       "metadata": {},
       "output_type": "pyout",
       "prompt_number": 3,
       "text": [
        "  District_1  Total_pop  Sinhalese  Tamils  Muslims  Others  Sinhalese_pct  \\\n",
        "0    Colombo    2309809    1771319  258654   242728   37108             77   \n",
        "1    Gampaha    2294641    2079115   90950    95501   29075             91   \n",
        "2   Kalutara    1217260    1054991   47973   112276    2020             87   \n",
        "3      Kandy    1369899    1018323  154874   191159    5543             74   \n",
        "4     Matale     482229     389092   48156    44113     868             81   \n",
        "\n",
        "   Tamils_pct  Muslims_pct  Others_pct  \n",
        "0          11           11           2  \n",
        "1           4            4           1  \n",
        "2           4            9           0  \n",
        "3          11           14           0  \n",
        "4          10            9           0  "
       ]
      }
     ],
     "prompt_number": 3
    },
    {
     "cell_type": "code",
     "collapsed": false,
     "input": [
      "print 'The data contains ' + str(data.shape[0]) + ' rows and ' + str(data.shape[1]) + ' columns.' \n",
      "print 'Each of the 25 rows corresponds to one of the districts in Sri Lanka.'"
     ],
     "language": "python",
     "metadata": {},
     "outputs": [
      {
       "output_type": "stream",
       "stream": "stdout",
       "text": [
        "The data contains 25 rows and 10 columns.\n",
        "Each of the 25 rows corresponds to one of the districts in Sri Lanka.\n"
       ]
      }
     ],
     "prompt_number": 4
    },
    {
     "cell_type": "heading",
     "level": 2,
     "metadata": {},
     "source": [
      "Loading in the shapefile"
     ]
    },
    {
     "cell_type": "heading",
     "level": 3,
     "metadata": {},
     "source": [
      "A note on shapefiles"
     ]
    },
    {
     "cell_type": "markdown",
     "metadata": {},
     "source": [
      "Note that when you download your shapefile you might get multiple shapefile sets. The Sri Lanka shapefile from the [Spatial Data Repository](http://spatialdata.dhsprogram.com/boundaries/#countryId=LK&view=table) that I downloaded contained 3 shapefiles: *LKA_adm0.shp, LKA_adm1.shp,* and *LKA_adm2.shp*. As you might imagine, *LKA_adm0.shp* is the shapefile for the whole country without any states. *LKA_adm2.shp* is a shapefile outlining the first-level administrative boundaries (states). *LKA_adm3.shp* goes a level deeper and has second-level administrative boundaries (think counties). For this guide I use the *LKA_adm2.sp* file and focus on state (or what I've called *district* level mapping).\n",
      "\n",
      "So what's in a shapefile? A shapefile is really a set of files that needs to remain together (in the same folder). At minimum, the file should contain .shp, .shx, and .dbf files. The .shp and .shx files define the shapes themselves while the .dbf file will contain metadata on the shape polygons (e.g. state names). Sometimes (and in the case of the Sri Lanka shapefile) you will receive other files too like a .csv and a .prj. The .csv is basically the same data that is in the .dbf but is in a more ubiquitous format in case you want to inspect/analyze it. The .prj file defines the projection. You actually shouldn't mess with any of these files without using a GIS software like the very awesome, open source [QGIS](http://www.qgis.org/en/site/).\n",
      "\n",
      "**You absolutely will need to make sure that within the .dbf file the states or districts have the same spelling conventions as in your data set!** If you don't have a .csv to inspect (which will mirror the .dbf) you can download [Apache's Open Office](https://www.openoffice.org/) for free. The Open Office spreadsheet program will let you open and inspect the .dbf file. Don't change it though; it's much easier to change your data file."
     ]
    },
    {
     "cell_type": "heading",
     "level": 3,
     "metadata": {},
     "source": [
      "Now, back to loading in the shapefile"
     ]
    },
    {
     "cell_type": "markdown",
     "metadata": {},
     "source": [
      "Import the shapefile using *fiona*.  Also I set some variables which define the boundaries of the map area. One way to think about it is that the shapefile you pass to *fiona* has some bounds which are defined by 2 latitude, longitude pairs: the first defines the lower left (*ll*) corner of the map and the second defines the upper right (*ur*) corner of the map. \n",
      "\n",
      "By subtracting the left edge longitude from the right edge longitude we can determine the width (*w*) for the map. We can do the same with the latitutde to get the height of the map."
     ]
    },
    {
     "cell_type": "code",
     "collapsed": false,
     "input": [
      "#load the shape file as shp. Here I have saved my shapefile in the folder 'LKA_adm_2' within my working directory.\n",
      "#your shapefile should end in .shp\n",
      "shp = fiona.open('LKA_adm_2/LKA_adm1.shp')\n",
      "\n",
      "#we can access the boundaries (the 2 lat,long pairs) using shp.bounds\n",
      "bds = shp.bounds\n",
      "\n",
      "#close the shp file\n",
      "shp.close()\n",
      "\n",
      "#define a variable called extra which we will use for padding the map when we display it (in this case I've selected a 10% pad)\n",
      "extra = 0.1\n",
      "\n",
      "#define the lower left hand boundary (longitude, latitude)\n",
      "ll = (bds[0], bds[1])\n",
      "\n",
      "#define the upper right hand boundary (longitude, latitude)\n",
      "ur = (bds[2], bds[3])\n",
      "\n",
      "#concatenate the lower left and upper right into a variable called coordinates\n",
      "coords = list(chain(ll, ur))\n",
      "\n",
      "#define variables for the width and the height of the map\n",
      "w, h = coords[2] - coords[0], coords[3] - coords[1]"
     ],
     "language": "python",
     "metadata": {},
     "outputs": [],
     "prompt_number": 5
    },
    {
     "cell_type": "heading",
     "level": 2,
     "metadata": {},
     "source": [
      "Create the basemap"
     ]
    },
    {
     "cell_type": "markdown",
     "metadata": {},
     "source": [
      "Below I create the basemap, defined by the variable *m*. Note that you need to set the lat and long (lon_0, lat_0) so that it is roughly in the center of what your map. You could just use Google Maps to figure out where you want to center your map. Here, I took the average (the midpoint) between the lower and upper longitude and the lower and upper latitude to center the make squarely in the middle of the shapefile.\n",
      "\n",
      "If you're interested in learning about the Basemap API check out the [matplotlib Basemap documentation here](http://matplotlib.org/basemap/api/basemap_api.html). It runs through the various projections you can use. "
     ]
    },
    {
     "cell_type": "code",
     "collapsed": false,
     "input": [
      "m = Basemap(\n",
      "    #set projection to 'tmerc' which is apparently less distorting when close-in\n",
      "    projection='tmerc',\n",
      "\n",
      "    #set longitude as average of lower, upper longitude bounds\n",
      "    lon_0 = np.average([bds[0],bds[2]]),\n",
      "\n",
      "    #set latitude as average of lower,upper latitude bounds\n",
      "    lat_0 = np.average([bds[1],bds[3]]),\n",
      "\n",
      "    #string describing ellipsoid (\u2018GRS80\u2019 or \u2018WGS84\u2019, for example). Not sure what this does...\n",
      "    ellps = 'WGS84',\n",
      "    \n",
      "    #set the map boundaries. Note that we use the extra variable to provide a 10% buffer around the map\n",
      "    llcrnrlon=coords[0] - extra * w,\n",
      "    llcrnrlat=coords[1] - extra + 0.01 * h,\n",
      "    urcrnrlon=coords[2] + extra * w,\n",
      "    urcrnrlat=coords[3] + extra + 0.01 * h,\n",
      "\n",
      "    #provide latitude of 'true scale.' Not sure what this means, I would check the Basemap API if you are a GIS guru\n",
      "    lat_ts=0,\n",
      "\n",
      "    #resolution of boundary database to use. Can be c (crude), l (low), i (intermediate), h (high), f (full) or None.\n",
      "    resolution='i',\n",
      "    \n",
      "    #don't show the axis ticks automatically\n",
      "    suppress_ticks=True)\n",
      "\n",
      "m.readshapefile(\n",
      "    #provide the path to the shapefile, but leave off the .shp extension\n",
      "    'LKA_adm_2/LKA_adm1',\n",
      "\n",
      "    #name your map something useful (I named this 'srilanka')\n",
      "    'srilanka',\n",
      "\n",
      "    #set the default shape boundary coloring (default is black) and the zorder (layer order)\n",
      "    color='none',\n",
      "    zorder=2)"
     ],
     "language": "python",
     "metadata": {},
     "outputs": [
      {
       "metadata": {},
       "output_type": "pyout",
       "prompt_number": 6,
       "text": [
        "(25,\n",
        " 5,\n",
        " [79.52180480957031, 5.918471813201904, 0.0, 0.0],\n",
        " [81.87875366210955, 9.835970878601088, 0.0, 0.0],\n",
        " <matplotlib.collections.LineCollection at 0x10bc59bd0>)"
       ]
      }
     ],
     "prompt_number": 6
    },
    {
     "cell_type": "markdown",
     "metadata": {},
     "source": [
      "You can access the *m* object by passing *m*.whatever_you_named_your_shape. Each item in *m.srilanka* is a matrixa 2 x n matrix defining the polygon shape. I believe they are the locations of each point, which is then interpolated to create the polygon outline (not 100% sure about this, but for our purposes it doesn't matter). If you want to take a look at the first item in *m.srilanka* execute"
     ]
    },
    {
     "cell_type": "markdown",
     "metadata": {},
     "source": [
      "    In: m.srilanka[0]"
     ]
    },
    {
     "cell_type": "code",
     "collapsed": false,
     "input": [
      "print 'm.srilanka is a ' + str(type(m.srilanka)) + ' object.'\n",
      "\n",
      "print 'It contains ' + str(len(m.srilanka)) + ' items.'\n",
      "\n",
      "print 'The first list item itself contains ' + str(len(m.srilanka[0])) + ' items.'"
     ],
     "language": "python",
     "metadata": {},
     "outputs": [
      {
       "output_type": "stream",
       "stream": "stdout",
       "text": [
        "m.srilanka is a <type 'list'> object.\n",
        "It contains 156 items.\n",
        "The first list item itself contains 103 items.\n"
       ]
      }
     ],
     "prompt_number": 7
    },
    {
     "cell_type": "markdown",
     "metadata": {},
     "source": [
      "You might be wondering why the list contains 156 items, rather than 25 (1 for each district). When you use the *readshapefile* class 'rings in individual Polygon shapes are split out into separate polygons, and additional keys \u2018RINGNUM\u2019 and \u2018SHAPENUM\u2019 are added to the shape attribute dictionary' (per the Basemap documentation). What this means is that if the district shape is actually comprised of multiple polygons, then the shape is split out into each of its associated polygon rings. This occurs frequently when the shape contains complex coastlines (e.g. islands) since the shape for that state or district is actually comprised of multiple fully formed polygons (an island requires its own polygon). Think of the U.S. State of Hawaii -- it is comprised of multiple island polygons."
     ]
    },
    {
     "cell_type": "markdown",
     "metadata": {},
     "source": [
      "You can also access the *info* feature of the polygon which has the associated metadata. Note that *RINGNUM* and *SHAPENUM* were added. I'll be using *NAME_1* to merge this with my data as this contains the district name."
     ]
    },
    {
     "cell_type": "code",
     "collapsed": false,
     "input": [
      "m.srilanka_info[0]"
     ],
     "language": "python",
     "metadata": {},
     "outputs": [
      {
       "metadata": {},
       "output_type": "pyout",
       "prompt_number": 8,
       "text": [
        "{'ENGTYPE_1': 'District',\n",
        " 'ID_0': 215,\n",
        " 'ID_1': 1,\n",
        " 'ISO': 'LKA',\n",
        " 'NAME_0': 'Sri Lanka',\n",
        " 'NAME_1': 'Ampara',\n",
        " 'NL_NAME_1': '                                                  ',\n",
        " 'RINGNUM': 1,\n",
        " 'SHAPENUM': 1,\n",
        " 'TYPE_1': 'Distrikkaya',\n",
        " 'VARNAME_1': 'Amparai'}"
       ]
      }
     ],
     "prompt_number": 8
    },
    {
     "cell_type": "heading",
     "level": 2,
     "metadata": {},
     "source": [
      "Setting up the map dataframe"
     ]
    },
    {
     "cell_type": "markdown",
     "metadata": {},
     "source": [
      "Next, we need to take the information from *m.srilanka* and get it into a nice Panda's dataframe. I use *Shapely's* **Polygon** class to convert the x,y information contained in the *m.srilanka* list to create a defined polygon. You can read more about [Shapely here](http://toblerity.org/shapely/manual.html)\n",
      "\n",
      "Then, I grab *NAME_1* and call it *district* and define areas for each polygon. Note that each *Shapely polygon* has an .area attribute which calculates the polygon area (in meters). I add a column for miles as well."
     ]
    },
    {
     "cell_type": "code",
     "collapsed": false,
     "input": [
      "# set up a map dataframe\n",
      "df_map = pd.DataFrame({\n",
      "\n",
      "    #access the x,y coords and define a polygon for each item in m.srilanka\n",
      "    'poly': [Polygon(xy) for xy in m.srilanka],\n",
      "    #conver NAME_1 to a column called 'district'\n",
      "    'district': [district['NAME_1'] for district in m.srilanka_info]})\n",
      "\n",
      "#add the polygon area\n",
      "df_map['area_m'] = df_map['poly'].map(lambda x: x.area/1000)\n",
      "\n",
      "#convert meters to miles\n",
      "df_map['area_miles'] = df_map['area_m'] * 0.000621371"
     ],
     "language": "python",
     "metadata": {},
     "outputs": [],
     "prompt_number": 9
    },
    {
     "cell_type": "code",
     "collapsed": false,
     "input": [
      "df_map.head()"
     ],
     "language": "python",
     "metadata": {},
     "outputs": [
      {
       "html": [
        "<div style=\"max-height:1000px;max-width:1500px;overflow:auto;\">\n",
        "<table border=\"1\" class=\"dataframe\">\n",
        "  <thead>\n",
        "    <tr style=\"text-align: right;\">\n",
        "      <th></th>\n",
        "      <th>district</th>\n",
        "      <th>poly</th>\n",
        "      <th>area_m</th>\n",
        "      <th>area_miles</th>\n",
        "    </tr>\n",
        "  </thead>\n",
        "  <tbody>\n",
        "    <tr>\n",
        "      <th>0</th>\n",
        "      <td>       Ampara</td>\n",
        "      <td> POLYGON ((276169.8002706398 175908.0897950437,...</td>\n",
        "      <td>     519.996944</td>\n",
        "      <td>    0.323111</td>\n",
        "    </tr>\n",
        "    <tr>\n",
        "      <th>1</th>\n",
        "      <td>       Ampara</td>\n",
        "      <td> POLYGON ((217641.0364441486 207208.6241718179,...</td>\n",
        "      <td> 4484127.664631</td>\n",
        "      <td> 2786.306891</td>\n",
        "    </tr>\n",
        "    <tr>\n",
        "      <th>2</th>\n",
        "      <td> Anuradhapura</td>\n",
        "      <td> POLYGON ((166929.5980524687 338253.4440058147,...</td>\n",
        "      <td> 7206341.191304</td>\n",
        "      <td> 4477.811432</td>\n",
        "    </tr>\n",
        "    <tr>\n",
        "      <th>3</th>\n",
        "      <td>      Badulla</td>\n",
        "      <td> POLYGON ((188035.5295273047 193888.385865976, ...</td>\n",
        "      <td> 2868839.391369</td>\n",
        "      <td> 1782.613601</td>\n",
        "    </tr>\n",
        "    <tr>\n",
        "      <th>4</th>\n",
        "      <td>   Batticaloa</td>\n",
        "      <td> POLYGON ((279070.6564249436 180985.0646625504,...</td>\n",
        "      <td>     650.514429</td>\n",
        "      <td>    0.404211</td>\n",
        "    </tr>\n",
        "  </tbody>\n",
        "</table>\n",
        "</div>"
       ],
       "metadata": {},
       "output_type": "pyout",
       "prompt_number": 10,
       "text": [
        "       district                                               poly  \\\n",
        "0        Ampara  POLYGON ((276169.8002706398 175908.0897950437,...   \n",
        "1        Ampara  POLYGON ((217641.0364441486 207208.6241718179,...   \n",
        "2  Anuradhapura  POLYGON ((166929.5980524687 338253.4440058147,...   \n",
        "3       Badulla  POLYGON ((188035.5295273047 193888.385865976, ...   \n",
        "4    Batticaloa  POLYGON ((279070.6564249436 180985.0646625504,...   \n",
        "\n",
        "           area_m   area_miles  \n",
        "0      519.996944     0.323111  \n",
        "1  4484127.664631  2786.306891  \n",
        "2  7206341.191304  4477.811432  \n",
        "3  2868839.391369  1782.613601  \n",
        "4      650.514429     0.404211  "
       ]
      }
     ],
     "prompt_number": 10
    },
    {
     "cell_type": "heading",
     "level": 3,
     "metadata": {},
     "source": [
      "Binding the data to the map"
     ]
    },
    {
     "cell_type": "markdown",
     "metadata": {},
     "source": [
      "Again, note that we will be matching *District_1* witin the data to *district* within the map dataframe. "
     ]
    },
    {
     "cell_type": "code",
     "collapsed": false,
     "input": [
      "data.head()"
     ],
     "language": "python",
     "metadata": {},
     "outputs": [
      {
       "html": [
        "<div style=\"max-height:1000px;max-width:1500px;overflow:auto;\">\n",
        "<table border=\"1\" class=\"dataframe\">\n",
        "  <thead>\n",
        "    <tr style=\"text-align: right;\">\n",
        "      <th></th>\n",
        "      <th>District_1</th>\n",
        "      <th>Total_pop</th>\n",
        "      <th>Sinhalese</th>\n",
        "      <th>Tamils</th>\n",
        "      <th>Muslims</th>\n",
        "      <th>Others</th>\n",
        "      <th>Sinhalese_pct</th>\n",
        "      <th>Tamils_pct</th>\n",
        "      <th>Muslims_pct</th>\n",
        "      <th>Others_pct</th>\n",
        "    </tr>\n",
        "  </thead>\n",
        "  <tbody>\n",
        "    <tr>\n",
        "      <th>0</th>\n",
        "      <td>  Colombo</td>\n",
        "      <td> 2309809</td>\n",
        "      <td> 1771319</td>\n",
        "      <td> 258654</td>\n",
        "      <td> 242728</td>\n",
        "      <td> 37108</td>\n",
        "      <td> 77</td>\n",
        "      <td> 11</td>\n",
        "      <td> 11</td>\n",
        "      <td> 2</td>\n",
        "    </tr>\n",
        "    <tr>\n",
        "      <th>1</th>\n",
        "      <td>  Gampaha</td>\n",
        "      <td> 2294641</td>\n",
        "      <td> 2079115</td>\n",
        "      <td>  90950</td>\n",
        "      <td>  95501</td>\n",
        "      <td> 29075</td>\n",
        "      <td> 91</td>\n",
        "      <td>  4</td>\n",
        "      <td>  4</td>\n",
        "      <td> 1</td>\n",
        "    </tr>\n",
        "    <tr>\n",
        "      <th>2</th>\n",
        "      <td> Kalutara</td>\n",
        "      <td> 1217260</td>\n",
        "      <td> 1054991</td>\n",
        "      <td>  47973</td>\n",
        "      <td> 112276</td>\n",
        "      <td>  2020</td>\n",
        "      <td> 87</td>\n",
        "      <td>  4</td>\n",
        "      <td>  9</td>\n",
        "      <td> 0</td>\n",
        "    </tr>\n",
        "    <tr>\n",
        "      <th>3</th>\n",
        "      <td>    Kandy</td>\n",
        "      <td> 1369899</td>\n",
        "      <td> 1018323</td>\n",
        "      <td> 154874</td>\n",
        "      <td> 191159</td>\n",
        "      <td>  5543</td>\n",
        "      <td> 74</td>\n",
        "      <td> 11</td>\n",
        "      <td> 14</td>\n",
        "      <td> 0</td>\n",
        "    </tr>\n",
        "    <tr>\n",
        "      <th>4</th>\n",
        "      <td>   Matale</td>\n",
        "      <td>  482229</td>\n",
        "      <td>  389092</td>\n",
        "      <td>  48156</td>\n",
        "      <td>  44113</td>\n",
        "      <td>   868</td>\n",
        "      <td> 81</td>\n",
        "      <td> 10</td>\n",
        "      <td>  9</td>\n",
        "      <td> 0</td>\n",
        "    </tr>\n",
        "  </tbody>\n",
        "</table>\n",
        "</div>"
       ],
       "metadata": {},
       "output_type": "pyout",
       "prompt_number": 11,
       "text": [
        "  District_1  Total_pop  Sinhalese  Tamils  Muslims  Others  Sinhalese_pct  \\\n",
        "0    Colombo    2309809    1771319  258654   242728   37108             77   \n",
        "1    Gampaha    2294641    2079115   90950    95501   29075             91   \n",
        "2   Kalutara    1217260    1054991   47973   112276    2020             87   \n",
        "3      Kandy    1369899    1018323  154874   191159    5543             74   \n",
        "4     Matale     482229     389092   48156    44113     868             81   \n",
        "\n",
        "   Tamils_pct  Muslims_pct  Others_pct  \n",
        "0          11           11           2  \n",
        "1           4            4           1  \n",
        "2           4            9           0  \n",
        "3          11           14           0  \n",
        "4          10            9           0  "
       ]
      }
     ],
     "prompt_number": 11
    },
    {
     "cell_type": "markdown",
     "metadata": {},
     "source": [
      "First, let's rename *District_1* to *district* within the data"
     ]
    },
    {
     "cell_type": "code",
     "collapsed": false,
     "input": [
      "data=data.rename(columns = {'District_1':'district'})"
     ],
     "language": "python",
     "metadata": {},
     "outputs": [],
     "prompt_number": 12
    },
    {
     "cell_type": "markdown",
     "metadata": {},
     "source": [
      "Did it work? Let's take a look at the row for Colombo. "
     ]
    },
    {
     "cell_type": "code",
     "collapsed": false,
     "input": [
      "data[data['district']=='Colombo']"
     ],
     "language": "python",
     "metadata": {},
     "outputs": [
      {
       "html": [
        "<div style=\"max-height:1000px;max-width:1500px;overflow:auto;\">\n",
        "<table border=\"1\" class=\"dataframe\">\n",
        "  <thead>\n",
        "    <tr style=\"text-align: right;\">\n",
        "      <th></th>\n",
        "      <th>district</th>\n",
        "      <th>Total_pop</th>\n",
        "      <th>Sinhalese</th>\n",
        "      <th>Tamils</th>\n",
        "      <th>Muslims</th>\n",
        "      <th>Others</th>\n",
        "      <th>Sinhalese_pct</th>\n",
        "      <th>Tamils_pct</th>\n",
        "      <th>Muslims_pct</th>\n",
        "      <th>Others_pct</th>\n",
        "    </tr>\n",
        "  </thead>\n",
        "  <tbody>\n",
        "    <tr>\n",
        "      <th>0</th>\n",
        "      <td> Colombo</td>\n",
        "      <td> 2309809</td>\n",
        "      <td> 1771319</td>\n",
        "      <td> 258654</td>\n",
        "      <td> 242728</td>\n",
        "      <td> 37108</td>\n",
        "      <td> 77</td>\n",
        "      <td> 11</td>\n",
        "      <td> 11</td>\n",
        "      <td> 2</td>\n",
        "    </tr>\n",
        "  </tbody>\n",
        "</table>\n",
        "</div>"
       ],
       "metadata": {},
       "output_type": "pyout",
       "prompt_number": 13,
       "text": [
        "  district  Total_pop  Sinhalese  Tamils  Muslims  Others  Sinhalese_pct  \\\n",
        "0  Colombo    2309809    1771319  258654   242728   37108             77   \n",
        "\n",
        "   Tamils_pct  Muslims_pct  Others_pct  \n",
        "0          11           11           2  "
       ]
      }
     ],
     "prompt_number": 13
    },
    {
     "cell_type": "markdown",
     "metadata": {},
     "source": [
      "Perfect! Now, let's merge our two data frames with *df_map* on the left and *data* on the right based on the key variable *district*. I redefine *df_map* as the merged dataframe."
     ]
    },
    {
     "cell_type": "code",
     "collapsed": false,
     "input": [
      "df_map = pd.merge(df_map, data, on='district')"
     ],
     "language": "python",
     "metadata": {},
     "outputs": [],
     "prompt_number": 14
    },
    {
     "cell_type": "markdown",
     "metadata": {},
     "source": [
      "Let's make sure this looks right:"
     ]
    },
    {
     "cell_type": "code",
     "collapsed": false,
     "input": [
      "df_map.head()"
     ],
     "language": "python",
     "metadata": {},
     "outputs": [
      {
       "html": [
        "<div style=\"max-height:1000px;max-width:1500px;overflow:auto;\">\n",
        "<table border=\"1\" class=\"dataframe\">\n",
        "  <thead>\n",
        "    <tr style=\"text-align: right;\">\n",
        "      <th></th>\n",
        "      <th>district</th>\n",
        "      <th>poly</th>\n",
        "      <th>area_m</th>\n",
        "      <th>area_miles</th>\n",
        "      <th>Total_pop</th>\n",
        "      <th>Sinhalese</th>\n",
        "      <th>Tamils</th>\n",
        "      <th>Muslims</th>\n",
        "      <th>Others</th>\n",
        "      <th>Sinhalese_pct</th>\n",
        "      <th>Tamils_pct</th>\n",
        "      <th>Muslims_pct</th>\n",
        "      <th>Others_pct</th>\n",
        "    </tr>\n",
        "  </thead>\n",
        "  <tbody>\n",
        "    <tr>\n",
        "      <th>0</th>\n",
        "      <td>       Ampara</td>\n",
        "      <td> POLYGON ((276169.8002706398 175908.0897950437,...</td>\n",
        "      <td>     519.996944</td>\n",
        "      <td>    0.323111</td>\n",
        "      <td> 648057</td>\n",
        "      <td> 251018</td>\n",
        "      <td> 112915</td>\n",
        "      <td> 282484</td>\n",
        "      <td> 1640</td>\n",
        "      <td> 39</td>\n",
        "      <td> 17</td>\n",
        "      <td> 44</td>\n",
        "      <td> 0</td>\n",
        "    </tr>\n",
        "    <tr>\n",
        "      <th>1</th>\n",
        "      <td>       Ampara</td>\n",
        "      <td> POLYGON ((217641.0364441486 207208.6241718179,...</td>\n",
        "      <td> 4484127.664631</td>\n",
        "      <td> 2786.306891</td>\n",
        "      <td> 648057</td>\n",
        "      <td> 251018</td>\n",
        "      <td> 112915</td>\n",
        "      <td> 282484</td>\n",
        "      <td> 1640</td>\n",
        "      <td> 39</td>\n",
        "      <td> 17</td>\n",
        "      <td> 44</td>\n",
        "      <td> 0</td>\n",
        "    </tr>\n",
        "    <tr>\n",
        "      <th>2</th>\n",
        "      <td> Anuradhapura</td>\n",
        "      <td> POLYGON ((166929.5980524687 338253.4440058147,...</td>\n",
        "      <td> 7206341.191304</td>\n",
        "      <td> 4477.811432</td>\n",
        "      <td> 856232</td>\n",
        "      <td> 778131</td>\n",
        "      <td>   6022</td>\n",
        "      <td>  70248</td>\n",
        "      <td> 1831</td>\n",
        "      <td> 91</td>\n",
        "      <td>  1</td>\n",
        "      <td>  8</td>\n",
        "      <td> 0</td>\n",
        "    </tr>\n",
        "    <tr>\n",
        "      <th>3</th>\n",
        "      <td>      Badulla</td>\n",
        "      <td> POLYGON ((188035.5295273047 193888.385865976, ...</td>\n",
        "      <td> 2868839.391369</td>\n",
        "      <td> 1782.613601</td>\n",
        "      <td> 811758</td>\n",
        "      <td> 593120</td>\n",
        "      <td> 169997</td>\n",
        "      <td>  45886</td>\n",
        "      <td> 2755</td>\n",
        "      <td> 73</td>\n",
        "      <td> 21</td>\n",
        "      <td>  6</td>\n",
        "      <td> 0</td>\n",
        "    </tr>\n",
        "    <tr>\n",
        "      <th>4</th>\n",
        "      <td>   Batticaloa</td>\n",
        "      <td> POLYGON ((279070.6564249436 180985.0646625504,...</td>\n",
        "      <td>     650.514429</td>\n",
        "      <td>    0.404211</td>\n",
        "      <td> 525142</td>\n",
        "      <td>   6127</td>\n",
        "      <td> 382300</td>\n",
        "      <td> 133844</td>\n",
        "      <td> 2871</td>\n",
        "      <td>  1</td>\n",
        "      <td> 73</td>\n",
        "      <td> 25</td>\n",
        "      <td> 1</td>\n",
        "    </tr>\n",
        "  </tbody>\n",
        "</table>\n",
        "</div>"
       ],
       "metadata": {},
       "output_type": "pyout",
       "prompt_number": 15,
       "text": [
        "       district                                               poly  \\\n",
        "0        Ampara  POLYGON ((276169.8002706398 175908.0897950437,...   \n",
        "1        Ampara  POLYGON ((217641.0364441486 207208.6241718179,...   \n",
        "2  Anuradhapura  POLYGON ((166929.5980524687 338253.4440058147,...   \n",
        "3       Badulla  POLYGON ((188035.5295273047 193888.385865976, ...   \n",
        "4    Batticaloa  POLYGON ((279070.6564249436 180985.0646625504,...   \n",
        "\n",
        "           area_m   area_miles  Total_pop  Sinhalese  Tamils  Muslims  Others  \\\n",
        "0      519.996944     0.323111     648057     251018  112915   282484    1640   \n",
        "1  4484127.664631  2786.306891     648057     251018  112915   282484    1640   \n",
        "2  7206341.191304  4477.811432     856232     778131    6022    70248    1831   \n",
        "3  2868839.391369  1782.613601     811758     593120  169997    45886    2755   \n",
        "4      650.514429     0.404211     525142       6127  382300   133844    2871   \n",
        "\n",
        "   Sinhalese_pct  Tamils_pct  Muslims_pct  Others_pct  \n",
        "0             39          17           44           0  \n",
        "1             39          17           44           0  \n",
        "2             91           1            8           0  \n",
        "3             73          21            6           0  \n",
        "4              1          73           25           1  "
       ]
      }
     ],
     "prompt_number": 15
    },
    {
     "cell_type": "markdown",
     "metadata": {},
     "source": [
      "Now you can see that the map dataframe includes the demographic data iterated for each polygon."
     ]
    },
    {
     "cell_type": "heading",
     "level": 2,
     "metadata": {},
     "source": [
      "Binning the data"
     ]
    },
    {
     "cell_type": "markdown",
     "metadata": {},
     "source": [
      "Next, we need to decide how we want to split up the data. For a filled map, we need to decide how many bins we want (call this *k*) and where to split the bins. For example, if most of the data points we would like to plot are between 0 and 10, perhaps we would want to split it evenly in 4 bins ranging from 0-2.5, 2.5-5, 5-7.5 and 7.5-10. The problem with this approach is that your map might not tell you much if most of the data is in the first bin, 0-2.5, except a couple outliers. So, I'll present two options:\n",
      "<ul>\n",
      "<li>use Jenks natural breaks\n",
      "<li>define our own breaks\n",
      "</ul>\n",
      "\n",
      "[Jenks natural breaks](http://en.wikipedia.org/wiki/Jenks_natural_breaks_optimization) defines optimal breakpoints for the data using a clustering algorithm. This is great if you are not sure where to break or bin your data.\n",
      "\n",
      "Defining our own breaks (like the example I provided above) is useful for when you want to create a set of maps using the same basemap but plotting different variables. In this case, you generally want to have your data plotted on the same scale for ease of comparison.\n",
      "\n",
      "Below, toggle the variable *Jenks* to *True* if you want to use Jenks bins and *False* if you want to define your own."
     ]
    },
    {
     "cell_type": "heading",
     "level": 5,
     "metadata": {},
     "source": [
      "Set the bins"
     ]
    },
    {
     "cell_type": "code",
     "collapsed": false,
     "input": [
      "# change False to True to use Jenks binning\n",
      "jenks = False"
     ],
     "language": "python",
     "metadata": {},
     "outputs": [],
     "prompt_number": 16
    },
    {
     "cell_type": "markdown",
     "metadata": {},
     "source": [
      "Next, set the variable you would like to plot. This should be the column name in *df_map* that you would like to analyze. I have set it to 'Tamils_pct' for the purpose of the walkthrough."
     ]
    },
    {
     "cell_type": "heading",
     "level": 5,
     "metadata": {},
     "source": [
      "Set the variable to plot"
     ]
    },
    {
     "cell_type": "code",
     "collapsed": false,
     "input": [
      "# change 'Tamils_pct' to the column name of what you want to plot (e.g. 'Total_pop' for total population)\n",
      "var_2_analyze = 'Tamils_pct'"
     ],
     "language": "python",
     "metadata": {},
     "outputs": [],
     "prompt_number": 17
    },
    {
     "cell_type": "heading",
     "level": 5,
     "metadata": {},
     "source": [
      "Bin the data"
     ]
    },
    {
     "cell_type": "code",
     "collapsed": false,
     "input": [
      "if jenks == True:\n",
      "    # Calculate Jenks natural breaks for each polygon\n",
      "    breaks = nb(\n",
      "        # set the data to use\n",
      "        df_map[df_map[var_2_analyze].notnull()][var_2_analyze].values,\n",
      "\n",
      "        # since this is an optimization function we need to give it a number of initial solutions to find. \n",
      "        # you can adjust this number if you are unsatisfied with the bin results\n",
      "        initial=300,\n",
      "\n",
      "        # k is the number of natural breaks you would like to apply. I've set it to 10, but you can change.\n",
      "        k=10)\n",
      "\n",
      "else:\n",
      "    # Define my own breaks [even split each 20 percentage points] Note that the bins are the top range so >20, >40, etc\n",
      "    # you can change the bins to whatever you like, though they should be based on the data you are analyzing\n",
      "    # since I am going to plot data on a 0 to 100 scale, I chose these break points\n",
      "    my_bins = [20,40,60,80,100]\n",
      "    \n",
      "    # Calculate the user defined breaks for our defined bins\n",
      "    breaks = mapclassify.User_Defined(\n",
      "               \n",
      "            # set the data to use \n",
      "            df_map[df_map[var_2_analyze].notnull()][var_2_analyze].values, \n",
      "            \n",
      "            #use my bins\n",
      "            my_bins)"
     ],
     "language": "python",
     "metadata": {},
     "outputs": [],
     "prompt_number": 18
    },
    {
     "cell_type": "markdown",
     "metadata": {},
     "source": [
      "Note that the output of our **breaks** variable from *pysal.esda.mapclassify* has two attributes we can access: *breaks.y* and *breaks.yb*\n",
      "\n",
      "* *breaks.y* has the actual data that we broke on\n",
      "* *breaks.yb* has the bin that is output\n",
      "\n",
      "You can take a look at this if you're interested by executing:"
     ]
    },
    {
     "cell_type": "markdown",
     "metadata": {},
     "source": [
      "    In: breaks.y\n",
      "    In: breaks.yb"
     ]
    },
    {
     "cell_type": "heading",
     "level": 5,
     "metadata": {},
     "source": [
      "Add breaks to the dataframe as 'bins'"
     ]
    },
    {
     "cell_type": "code",
     "collapsed": false,
     "input": [
      "# check if 'bins' already exists and drop it if it does so that we can recreate it using our new break information\n",
      "if 'bins' in df_map.columns:\n",
      "    df_map = df_map.drop('bins',1)\n",
      "    print 'Bins column already existed, so we dropped the bins column'\n",
      "\n",
      "\n",
      "# the notnull method lets us match indices when joining\n",
      "# b is a dataframe of the bins with the var_2_analyze index\n",
      "b = pd.DataFrame({'bins': breaks.yb}, index=df_map[df_map[var_2_analyze].notnull()].index)\n",
      "\n",
      "# join b back to df_map\n",
      "df_map = df_map.join(b)\n",
      "\n",
      "# and handle our NA's if there are any\n",
      "df_map.bins.fillna(-1, inplace=True)"
     ],
     "language": "python",
     "metadata": {},
     "outputs": [],
     "prompt_number": 19
    },
    {
     "cell_type": "heading",
     "level": 5,
     "metadata": {},
     "source": [
      "Create labels for the legend"
     ]
    },
    {
     "cell_type": "code",
     "collapsed": false,
     "input": [
      "# check if this is a jenks or user-defined break\n",
      "if jenks == True:\n",
      "    \n",
      "    # if jenks, use these labels\n",
      "    bin_labels = [\"<= %0.0f\" % b for b in breaks.bins]\n",
      "else: \n",
      "    \n",
      "    # if user defined, use these ones\n",
      "    bin_labels = [\"< %0.0f\" % b for b in breaks.bins]\n",
      "    \n",
      "print 'Here are the bin labels:'\n",
      "for label in bin_labels:\n",
      "    print label"
     ],
     "language": "python",
     "metadata": {},
     "outputs": [
      {
       "output_type": "stream",
       "stream": "stdout",
       "text": [
        "Here are the bin labels:\n",
        "< 20\n",
        "< 40\n",
        "< 60\n",
        "< 80\n",
        "< 100\n"
       ]
      }
     ],
     "prompt_number": 20
    },
    {
     "cell_type": "heading",
     "level": 2,
     "metadata": {},
     "source": [
      "Plotting the Map"
     ]
    },
    {
     "cell_type": "heading",
     "level": 5,
     "metadata": {},
     "source": [
      "Set up the colors"
     ]
    },
    {
     "cell_type": "markdown",
     "metadata": {},
     "source": [
      "This is straight from Stephan H\u00fcgel's [guide to mapping with Python](http://sensitivecities.com/so-youd-like-to-make-a-map-using-python-EN.html#.VNZHhVXF8kR). He does a very nice job defining reusable functions for mapping numbers to colors. I'm not going to get into what exactly these functions do in this walk-through, but keep in mind that we now have each polygon bucketed within a bin. We just want to ensure that we evenly split our color scale across the bins. These functions help us do that using some of *matplotlib's* built in functionality."
     ]
    },
    {
     "cell_type": "code",
     "collapsed": false,
     "input": [
      "# Convenience functions for working with color ramps and bars\n",
      "def colorbar_index(ncolors, cmap, labels=None, **kwargs):\n",
      "    \"\"\"\n",
      "    This is a convenience function to stop you making off-by-one errors\n",
      "    Takes a standard colour ramp, and discretizes it,\n",
      "    then draws a colour bar with correctly aligned labels\n",
      "    \"\"\"\n",
      "    cmap = cmap_discretize(cmap, ncolors)\n",
      "    mappable = cm.ScalarMappable(cmap=cmap)\n",
      "    mappable.set_array([])\n",
      "    mappable.set_clim(-0.5, ncolors+0.5)\n",
      "    colorbar = plt.colorbar(mappable, **kwargs)\n",
      "    colorbar.set_ticks(np.linspace(0, ncolors, ncolors))\n",
      "    colorbar.set_ticklabels(range(ncolors))\n",
      "    if labels:\n",
      "        colorbar.set_ticklabels(labels)\n",
      "    return colorbar\n",
      "\n",
      "def cmap_discretize(cmap, N):\n",
      "    \"\"\"\n",
      "    Return a discrete colormap from the continuous colormap cmap.\n",
      "\n",
      "        cmap: colormap instance, eg. cm.jet. \n",
      "        N: number of colors.\n",
      "\n",
      "    Example\n",
      "        x = resize(arange(100), (5,100))\n",
      "        djet = cmap_discretize(cm.jet, 5)\n",
      "        imshow(x, cmap=djet)\n",
      "\n",
      "    \"\"\"\n",
      "    if type(cmap) == str:\n",
      "        cmap = get_cmap(cmap)\n",
      "    colors_i = np.concatenate((np.linspace(0, 1., N), (0., 0., 0., 0.)))\n",
      "    colors_rgba = cmap(colors_i)\n",
      "    indices = np.linspace(0, 1., N + 1)\n",
      "    cdict = {}\n",
      "    for ki, key in enumerate(('red', 'green', 'blue')):\n",
      "        cdict[key] = [(indices[i], colors_rgba[i - 1, ki], colors_rgba[i, ki]) for i in xrange(N + 1)]\n",
      "    return matplotlib.colors.LinearSegmentedColormap(cmap.name + \"_%d\" % N, cdict, 1024)"
     ],
     "language": "python",
     "metadata": {},
     "outputs": [],
     "prompt_number": 21
    },
    {
     "cell_type": "heading",
     "level": 3,
     "metadata": {},
     "source": [
      "Onto plotting the map!"
     ]
    },
    {
     "cell_type": "markdown",
     "metadata": {},
     "source": [
      "Let's first make sure that we plot our map inline (as opposed to a Python viewer)"
     ]
    },
    {
     "cell_type": "code",
     "collapsed": false,
     "input": [
      "%matplotlib inline"
     ],
     "language": "python",
     "metadata": {},
     "outputs": [],
     "prompt_number": 22
    },
    {
     "cell_type": "markdown",
     "metadata": {},
     "source": [
      "Next, we are going to actually plot the map using *matplotlib*. I've stepped through the process with in-line comments.\n",
      "\n",
      "One thing worth mentioning is that you can customize the colors with any of the *matplotlib* color maps. You can take a look at all the options available in the [reference document here](http://matplotlib.org/examples/color/colormaps_reference.html). For creating a filled map you should stick to the **sequential** color maps."
     ]
    },
    {
     "cell_type": "code",
     "collapsed": false,
     "input": [
      "# initialize the plot\n",
      "plt.clf()\n",
      "\n",
      "# define the figure and set the facecolor (e.g. background) to white\n",
      "fig = plt.figure(facecolor='white')\n",
      "\n",
      "# ad a subplot called 'ax'\n",
      "ax = fig.add_subplot(111, axisbg='w', frame_on=False)\n",
      "\n",
      "# use a blue colour ramp ('Blues') - we'll be converting it to a map using cmap()\n",
      "# you could also use 'Oranges' or 'Greens' \n",
      "cmap = plt.get_cmap('Blues')\n",
      "\n",
      "\n",
      "# draw district with grey outlines\n",
      "df_map['patches'] = df_map['poly'].map(lambda x: PolygonPatch(x, ec='#555555', lw=.2, alpha=1., zorder=4))\n",
      "\n",
      "\n",
      "# set the PatchCollection with our defined 'patches'\n",
      "pc = PatchCollection(df_map['patches'], match_original=True)\n",
      "\n",
      "# normalize our bins between the min and max values within the bins\n",
      "norm = Normalize(vmin=df_map['bins'].min(), vmax=df_map['bins'].max())\n",
      "\n",
      "# impose our color map onto the patch collection\n",
      "pc.set_facecolor(cmap(norm(df_map['bins'].values)))\n",
      "ax.add_collection(pc)\n",
      "\n",
      "# Add a color bar which has our bin_labels applied\n",
      "cb = colorbar_index(ncolors=len(bin_labels), cmap=cmap, shrink=0.5, labels=bin_labels)\n",
      "# set the font size of the labels (set to size 10 here)\n",
      "cb.ax.tick_params(labelsize=10)\n",
      "\n",
      "# Create a bit of small print\n",
      "smallprint = ax.text(\n",
      "    # set the x,y location of the smallprint\n",
      "    1, 1,\n",
      "    # add whatever text you would like to appear\n",
      "    'This is a map of Sri Lanka showing ' + var_2_analyze + ' per district.',\n",
      "    # set the horizontal/vertical alignment\n",
      "    ha='right', va='bottom',\n",
      "    # set the size and the color\n",
      "    size=10,\n",
      "    color='#555555',\n",
      "    transform=ax.transAxes)\n",
      "\n",
      "# Draw a map scale\n",
      "m.drawmapscale(\n",
      "    #set the coordinates where the scale should appear\n",
      "    coords[0] + 0.08, coords[1] + 0.215,\n",
      "    coords[0], coords[1],\n",
      "    # what is the max value of the scale (here it's set to 25 for 25 miles)\n",
      "    25.,\n",
      "    barstyle='fancy', labelstyle='simple',\n",
      "    fillcolor1='w', fillcolor2='#555555',\n",
      "    fontcolor='#555555',\n",
      "    zorder=5,\n",
      "    # what units would you like to use. Defaults to km\n",
      "    units='mi')\n",
      "\n",
      "# set the layout to maximally fit the bounding area\n",
      "plt.tight_layout()\n",
      "\n",
      "# define the size of the figure\n",
      "fig.set_size_inches(5,6)\n",
      "\n",
      "# save the figure. Increase the dpi to increase the quality of the output .png. For example, dpi=1000 is super high quality\n",
      "# note that the figure will be saved as 'sri_lanka_' then the name of the variable under analysis\n",
      "# you can change this to whatever you want\n",
      "plt.savefig('sri_lanka_' + var_2_analyze + '.png', dpi=100, alpha=True)\n",
      "\n",
      "# display our plot\n",
      "plt.show()"
     ],
     "language": "python",
     "metadata": {},
     "outputs": [
      {
       "metadata": {},
       "output_type": "display_data",
       "text": [
        "<matplotlib.figure.Figure at 0x10970c390>"
       ]
      },
      {
       "metadata": {},
       "output_type": "display_data",
       "png": "[encoded data removed]",
       "text": [
        "<matplotlib.figure.Figure at 0x10970c350>"
       ]
      }
     ],
     "prompt_number": 23
    }
   ],
   "metadata": {}
  }
 ]
}