{
 "metadata": {
  "name": "",
  "signature": "sha256:9575c722dcffcb262466ba318fd69b9f5279456838a7972a622d15153c663423"
 },
 "nbformat": 3,
 "nbformat_minor": 0,
 "worksheets": [
  {
   "cells": [
    {
     "cell_type": "heading",
     "level": 1,
     "metadata": {},
     "source": [
      "Create a filled map (chloropleth) with Python"
     ]
    },
    {
     "cell_type": "markdown",
     "metadata": {},
     "source": [
      "![map](pymap3.png)"
     ]
    },
    {
     "cell_type": "markdown",
     "metadata": {},
     "source": [
      "First, big thanks to Stephan H\u00fcgel for his excellent [guide to mapping with Python](http://sensitivecities.com/so-youd-like-to-make-a-map-using-python-EN.html#.VNZHhVXF8kR). To create this guide, I heavily borrowed from Stephan's work, but tried to provide more contextualizing comment to ensure that a less advanced user can create their own filled map.\n",
      "\n",
      "Up front, you are going to need to install some packages you might not have used before. I had to install pysal, descartes, shapely, and Basemap. Install Basemap with:\n",
      "\n",
      "    pip install basemap --allow-external basemap --allow-unverified basemap"
     ]
    },
    {
     "cell_type": "markdown",
     "metadata": {},
     "source": [
      "For this guide, I focus on creating a filled map of Sri Lanka. I use some basic demographic data plus a shapefile that includes the first level of administration (for example, in the United States this is a state) to demonstrate how to create and manipulate a filled map with Python."
     ]
    },
    {
     "cell_type": "code",
     "collapsed": false,
     "input": [
      "import pandas as pd\n",
      "import numpy as np\n",
      "import matplotlib\n",
      "import matplotlib.pyplot as plt\n",
      "import matplotlib.cm as cm\n",
      "from matplotlib.colors import Normalize\n",
      "from matplotlib.collections import PatchCollection\n",
      "from mpl_toolkits.basemap import Basemap\n",
      "from shapely.geometry import Point, Polygon, MultiPoint, MultiPolygon\n",
      "from shapely.prepared import prep\n",
      "from pysal.esda.mapclassify import Natural_Breaks as nb\n",
      "from descartes import PolygonPatch\n",
      "import fiona\n",
      "from itertools import chain\n",
      "import pysal.esda.mapclassify as mapclassify"
     ],
     "language": "python",
     "metadata": {},
     "outputs": [],
     "prompt_number": 150
    },
    {
     "cell_type": "heading",
     "level": 3,
     "metadata": {},
     "source": [
      "Reading in the dataset"
     ]
    },
    {
     "cell_type": "markdown",
     "metadata": {},
     "source": [
      "I read in the dataset using Pandas. The primary dataset is just a .csv file that includes a column with a "
     ]
    },
    {
     "cell_type": "code",
     "collapsed": false,
     "input": [
      "data = pd.read_csv('srl_pop.csv')"
     ],
     "language": "python",
     "metadata": {},
     "outputs": [],
     "prompt_number": 2
    },
    {
     "cell_type": "markdown",
     "metadata": {},
     "source": [
      "Import the shapefile"
     ]
    },
    {
     "cell_type": "code",
     "collapsed": false,
     "input": [
      "shp = fiona.open('LKA_adm_2/LKA_adm1.shp')\n",
      "bds = shp.bounds\n",
      "shp.close()\n",
      "extra = 0.1\n",
      "ll = (bds[0], bds[1])\n",
      "ur = (bds[2], bds[3])\n",
      "coords = list(chain(ll, ur))\n",
      "w, h = coords[2] - coords[0], coords[3] - coords[1]"
     ],
     "language": "python",
     "metadata": {},
     "outputs": [],
     "prompt_number": 3
    },
    {
     "cell_type": "markdown",
     "metadata": {},
     "source": [
      "Create the basemap. Note that you need to set the lat and long (lon_0, lat_0) so that it is roughly in the center of what your map. In this example, I used Google Maps to figure out the middle of Sri Lanka."
     ]
    },
    {
     "cell_type": "code",
     "collapsed": false,
     "input": [
      "m = Basemap(\n",
      "    projection='tmerc',\n",
      "\n",
      "    #set lat long\n",
      "    lon_0=80.7,\n",
      "    lat_0=7.6,\n",
      "    ellps = 'WGS84',\n",
      "    llcrnrlon=coords[0] - extra * w,\n",
      "    llcrnrlat=coords[1] - extra + 0.01 * h,\n",
      "    urcrnrlon=coords[2] + extra * w,\n",
      "    urcrnrlat=coords[3] + extra + 0.01 * h,\n",
      "    lat_ts=0,\n",
      "    resolution='i',\n",
      "    suppress_ticks=True)\n",
      "m.readshapefile(\n",
      "    'LKA_adm_2/LKA_adm1',\n",
      "    #name your map something useful (I named this 'srilanka')\n",
      "    'srilanka',\n",
      "    color='none',\n",
      "    zorder=2)"
     ],
     "language": "python",
     "metadata": {},
     "outputs": [
      {
       "metadata": {},
       "output_type": "pyout",
       "prompt_number": 4,
       "text": [
        "(25,\n",
        " 5,\n",
        " [79.52180480957031, 5.918471813201904, 0.0, 0.0],\n",
        " [81.87875366210955, 9.835970878601088, 0.0, 0.0],\n",
        " <matplotlib.collections.LineCollection at 0x10acba250>)"
       ]
      }
     ],
     "prompt_number": 4
    },
    {
     "cell_type": "markdown",
     "metadata": {},
     "source": [
      "You can access the *m* object by passing *m*.whatever_you_named_your_shape. I'm actually not sure what this is. I'm guessing it's a list of a 2 x n matrix detailing the polygon shape. They are probably the locations of each point, which is then interpolated to create the polygon outline."
     ]
    },
    {
     "cell_type": "code",
     "collapsed": false,
     "input": [
      "len(m.srilanka[0])"
     ],
     "language": "python",
     "metadata": {},
     "outputs": [
      {
       "metadata": {},
       "output_type": "pyout",
       "prompt_number": 5,
       "text": [
        "103"
       ]
      }
     ],
     "prompt_number": 5
    },
    {
     "cell_type": "markdown",
     "metadata": {},
     "source": [
      "You can also access the *info* feature of the polygon which basically has the associated metadata. I'll be using *NAME_1* to merge this with my data."
     ]
    },
    {
     "cell_type": "code",
     "collapsed": false,
     "input": [
      "m.srilanka_info[0]"
     ],
     "language": "python",
     "metadata": {},
     "outputs": [
      {
       "metadata": {},
       "output_type": "pyout",
       "prompt_number": 6,
       "text": [
        "{'ENGTYPE_1': 'District',\n",
        " 'ID_0': 215,\n",
        " 'ID_1': 1,\n",
        " 'ISO': 'LKA',\n",
        " 'NAME_0': 'Sri Lanka',\n",
        " 'NAME_1': 'Ampara',\n",
        " 'NL_NAME_1': '                                                  ',\n",
        " 'RINGNUM': 1,\n",
        " 'SHAPENUM': 1,\n",
        " 'TYPE_1': 'Distrikkaya',\n",
        " 'VARNAME_1': 'Amparai'}"
       ]
      }
     ],
     "prompt_number": 6
    },
    {
     "cell_type": "code",
     "collapsed": false,
     "input": [
      "# set up a map dataframe\n",
      "df_map = pd.DataFrame({\n",
      "    'poly': [Polygon(xy) for xy in m.srilanka],\n",
      "    'district': [district['NAME_1'] for district in m.srilanka_info]})\n",
      "df_map['area_m'] = df_map['poly'].map(lambda x: x.area)\n",
      "df_map['area_miles'] = df_map['area_m'] * 0.000621371"
     ],
     "language": "python",
     "metadata": {},
     "outputs": [],
     "prompt_number": 7
    },
    {
     "cell_type": "code",
     "collapsed": false,
     "input": [
      "# Convenience functions for working with colour ramps and bars\n",
      "def colorbar_index(ncolors, cmap, labels=None, **kwargs):\n",
      "    \"\"\"\n",
      "    This is a convenience function to stop you making off-by-one errors\n",
      "    Takes a standard colour ramp, and discretizes it,\n",
      "    then draws a colour bar with correctly aligned labels\n",
      "    \"\"\"\n",
      "    cmap = cmap_discretize(cmap, ncolors)\n",
      "    mappable = cm.ScalarMappable(cmap=cmap)\n",
      "    mappable.set_array([])\n",
      "    mappable.set_clim(-0.5, ncolors+0.5)\n",
      "    colorbar = plt.colorbar(mappable, **kwargs)\n",
      "    colorbar.set_ticks(np.linspace(0, ncolors, ncolors))\n",
      "    colorbar.set_ticklabels(range(ncolors))\n",
      "    if labels:\n",
      "        colorbar.set_ticklabels(labels)\n",
      "    return colorbar\n",
      "\n",
      "def cmap_discretize(cmap, N):\n",
      "    \"\"\"\n",
      "    Return a discrete colormap from the continuous colormap cmap.\n",
      "\n",
      "        cmap: colormap instance, eg. cm.jet. \n",
      "        N: number of colors.\n",
      "\n",
      "    Example\n",
      "        x = resize(arange(100), (5,100))\n",
      "        djet = cmap_discretize(cm.jet, 5)\n",
      "        imshow(x, cmap=djet)\n",
      "\n",
      "    \"\"\"\n",
      "    if type(cmap) == str:\n",
      "        cmap = get_cmap(cmap)\n",
      "    colors_i = np.concatenate((np.linspace(0, 1., N), (0., 0., 0., 0.)))\n",
      "    colors_rgba = cmap(colors_i)\n",
      "    indices = np.linspace(0, 1., N + 1)\n",
      "    cdict = {}\n",
      "    for ki, key in enumerate(('red', 'green', 'blue')):\n",
      "        cdict[key] = [(indices[i], colors_rgba[i - 1, ki], colors_rgba[i, ki]) for i in xrange(N + 1)]\n",
      "    return matplotlib.colors.LinearSegmentedColormap(cmap.name + \"_%d\" % N, cdict, 1024)"
     ],
     "language": "python",
     "metadata": {},
     "outputs": [],
     "prompt_number": 8
    },
    {
     "cell_type": "code",
     "collapsed": false,
     "input": [
      "df_map.head()"
     ],
     "language": "python",
     "metadata": {},
     "outputs": [
      {
       "html": [
        "<div style=\"max-height:1000px;max-width:1500px;overflow:auto;\">\n",
        "<table border=\"1\" class=\"dataframe\">\n",
        "  <thead>\n",
        "    <tr style=\"text-align: right;\">\n",
        "      <th></th>\n",
        "      <th>district</th>\n",
        "      <th>poly</th>\n",
        "      <th>area_m</th>\n",
        "      <th>area_miles</th>\n",
        "    </tr>\n",
        "  </thead>\n",
        "  <tbody>\n",
        "    <tr>\n",
        "      <th>0</th>\n",
        "      <td>       Ampara</td>\n",
        "      <td> POLYGON ((276169.696990852 175908.2432793156, ...</td>\n",
        "      <td> 5.199970e+05</td>\n",
        "      <td>     323.111080</td>\n",
        "    </tr>\n",
        "    <tr>\n",
        "      <th>1</th>\n",
        "      <td>       Ampara</td>\n",
        "      <td> POLYGON ((217640.9089798275 207208.7421230724,...</td>\n",
        "      <td> 4.484128e+09</td>\n",
        "      <td> 2786307.289907</td>\n",
        "    </tr>\n",
        "    <tr>\n",
        "      <th>2</th>\n",
        "      <td> Anuradhapura</td>\n",
        "      <td> POLYGON ((166929.3767348504 338253.5297299762,...</td>\n",
        "      <td> 7.206341e+09</td>\n",
        "      <td> 4477811.291273</td>\n",
        "    </tr>\n",
        "    <tr>\n",
        "      <th>3</th>\n",
        "      <td>      Badulla</td>\n",
        "      <td> POLYGON ((188035.4096875651 193888.4840828223,...</td>\n",
        "      <td> 2.868840e+09</td>\n",
        "      <td> 1782613.705187</td>\n",
        "    </tr>\n",
        "    <tr>\n",
        "      <th>4</th>\n",
        "      <td>   Batticaloa</td>\n",
        "      <td> POLYGON ((279070.5501942032 180985.2204544346,...</td>\n",
        "      <td> 6.505146e+05</td>\n",
        "      <td>     404.210877</td>\n",
        "    </tr>\n",
        "  </tbody>\n",
        "</table>\n",
        "</div>"
       ],
       "metadata": {},
       "output_type": "pyout",
       "prompt_number": 9,
       "text": [
        "       district                                               poly  \\\n",
        "0        Ampara  POLYGON ((276169.696990852 175908.2432793156, ...   \n",
        "1        Ampara  POLYGON ((217640.9089798275 207208.7421230724,...   \n",
        "2  Anuradhapura  POLYGON ((166929.3767348504 338253.5297299762,...   \n",
        "3       Badulla  POLYGON ((188035.4096875651 193888.4840828223,...   \n",
        "4    Batticaloa  POLYGON ((279070.5501942032 180985.2204544346,...   \n",
        "\n",
        "         area_m      area_miles  \n",
        "0  5.199970e+05      323.111080  \n",
        "1  4.484128e+09  2786307.289907  \n",
        "2  7.206341e+09  4477811.291273  \n",
        "3  2.868840e+09  1782613.705187  \n",
        "4  6.505146e+05      404.210877  "
       ]
      }
     ],
     "prompt_number": 9
    },
    {
     "cell_type": "code",
     "collapsed": false,
     "input": [
      "data.head()"
     ],
     "language": "python",
     "metadata": {},
     "outputs": [
      {
       "html": [
        "<div style=\"max-height:1000px;max-width:1500px;overflow:auto;\">\n",
        "<table border=\"1\" class=\"dataframe\">\n",
        "  <thead>\n",
        "    <tr style=\"text-align: right;\">\n",
        "      <th></th>\n",
        "      <th>District_1</th>\n",
        "      <th>Total_pop</th>\n",
        "      <th>Sinhalese</th>\n",
        "      <th>Tamils</th>\n",
        "      <th>Muslims</th>\n",
        "      <th>Others</th>\n",
        "      <th>Sinhalese_pct</th>\n",
        "      <th>Tamils_pct</th>\n",
        "      <th>Muslims_pct</th>\n",
        "      <th>Others_pct</th>\n",
        "    </tr>\n",
        "  </thead>\n",
        "  <tbody>\n",
        "    <tr>\n",
        "      <th>0</th>\n",
        "      <td>  Colombo</td>\n",
        "      <td> 2309809</td>\n",
        "      <td> 1771319</td>\n",
        "      <td> 258654</td>\n",
        "      <td> 242728</td>\n",
        "      <td> 37108</td>\n",
        "      <td> 77</td>\n",
        "      <td> 11</td>\n",
        "      <td> 11</td>\n",
        "      <td> 2</td>\n",
        "    </tr>\n",
        "    <tr>\n",
        "      <th>1</th>\n",
        "      <td>  Gampaha</td>\n",
        "      <td> 2294641</td>\n",
        "      <td> 2079115</td>\n",
        "      <td>  90950</td>\n",
        "      <td>  95501</td>\n",
        "      <td> 29075</td>\n",
        "      <td> 91</td>\n",
        "      <td>  4</td>\n",
        "      <td>  4</td>\n",
        "      <td> 1</td>\n",
        "    </tr>\n",
        "    <tr>\n",
        "      <th>2</th>\n",
        "      <td> Kalutara</td>\n",
        "      <td> 1217260</td>\n",
        "      <td> 1054991</td>\n",
        "      <td>  47973</td>\n",
        "      <td> 112276</td>\n",
        "      <td>  2020</td>\n",
        "      <td> 87</td>\n",
        "      <td>  4</td>\n",
        "      <td>  9</td>\n",
        "      <td> 0</td>\n",
        "    </tr>\n",
        "    <tr>\n",
        "      <th>3</th>\n",
        "      <td>    Kandy</td>\n",
        "      <td> 1369899</td>\n",
        "      <td> 1018323</td>\n",
        "      <td> 154874</td>\n",
        "      <td> 191159</td>\n",
        "      <td>  5543</td>\n",
        "      <td> 74</td>\n",
        "      <td> 11</td>\n",
        "      <td> 14</td>\n",
        "      <td> 0</td>\n",
        "    </tr>\n",
        "    <tr>\n",
        "      <th>4</th>\n",
        "      <td>   Matale</td>\n",
        "      <td>  482229</td>\n",
        "      <td>  389092</td>\n",
        "      <td>  48156</td>\n",
        "      <td>  44113</td>\n",
        "      <td>   868</td>\n",
        "      <td> 81</td>\n",
        "      <td> 10</td>\n",
        "      <td>  9</td>\n",
        "      <td> 0</td>\n",
        "    </tr>\n",
        "  </tbody>\n",
        "</table>\n",
        "</div>"
       ],
       "metadata": {},
       "output_type": "pyout",
       "prompt_number": 10,
       "text": [
        "  District_1  Total_pop  Sinhalese  Tamils  Muslims  Others  Sinhalese_pct  \\\n",
        "0    Colombo    2309809    1771319  258654   242728   37108             77   \n",
        "1    Gampaha    2294641    2079115   90950    95501   29075             91   \n",
        "2   Kalutara    1217260    1054991   47973   112276    2020             87   \n",
        "3      Kandy    1369899    1018323  154874   191159    5543             74   \n",
        "4     Matale     482229     389092   48156    44113     868             81   \n",
        "\n",
        "   Tamils_pct  Muslims_pct  Others_pct  \n",
        "0          11           11           2  \n",
        "1           4            4           1  \n",
        "2           4            9           0  \n",
        "3          11           14           0  \n",
        "4          10            9           0  "
       ]
      }
     ],
     "prompt_number": 10
    },
    {
     "cell_type": "code",
     "collapsed": false,
     "input": [
      "data=data.rename(columns = {'District_1':'district'})"
     ],
     "language": "python",
     "metadata": {},
     "outputs": [],
     "prompt_number": 11
    },
    {
     "cell_type": "code",
     "collapsed": false,
     "input": [
      "data[data['district']=='Colombo']"
     ],
     "language": "python",
     "metadata": {},
     "outputs": [
      {
       "html": [
        "<div style=\"max-height:1000px;max-width:1500px;overflow:auto;\">\n",
        "<table border=\"1\" class=\"dataframe\">\n",
        "  <thead>\n",
        "    <tr style=\"text-align: right;\">\n",
        "      <th></th>\n",
        "      <th>district</th>\n",
        "      <th>Total_pop</th>\n",
        "      <th>Sinhalese</th>\n",
        "      <th>Tamils</th>\n",
        "      <th>Muslims</th>\n",
        "      <th>Others</th>\n",
        "      <th>Sinhalese_pct</th>\n",
        "      <th>Tamils_pct</th>\n",
        "      <th>Muslims_pct</th>\n",
        "      <th>Others_pct</th>\n",
        "    </tr>\n",
        "  </thead>\n",
        "  <tbody>\n",
        "    <tr>\n",
        "      <th>0</th>\n",
        "      <td> Colombo</td>\n",
        "      <td> 2309809</td>\n",
        "      <td> 1771319</td>\n",
        "      <td> 258654</td>\n",
        "      <td> 242728</td>\n",
        "      <td> 37108</td>\n",
        "      <td> 77</td>\n",
        "      <td> 11</td>\n",
        "      <td> 11</td>\n",
        "      <td> 2</td>\n",
        "    </tr>\n",
        "  </tbody>\n",
        "</table>\n",
        "</div>"
       ],
       "metadata": {},
       "output_type": "pyout",
       "prompt_number": 12,
       "text": [
        "  district  Total_pop  Sinhalese  Tamils  Muslims  Others  Sinhalese_pct  \\\n",
        "0  Colombo    2309809    1771319  258654   242728   37108             77   \n",
        "\n",
        "   Tamils_pct  Muslims_pct  Others_pct  \n",
        "0          11           11           2  "
       ]
      }
     ],
     "prompt_number": 12
    },
    {
     "cell_type": "code",
     "collapsed": false,
     "input": [
      "df_map = pd.merge(df_map, data, on='district')"
     ],
     "language": "python",
     "metadata": {},
     "outputs": [],
     "prompt_number": 13
    },
    {
     "cell_type": "markdown",
     "metadata": {},
     "source": [
      "If you are going to run the map again, using a different variable you need to drop *jenks_bins*"
     ]
    },
    {
     "cell_type": "code",
     "collapsed": false,
     "input": [
      "df_map = df_map.drop('bins',1)"
     ],
     "language": "python",
     "metadata": {},
     "outputs": [
      {
       "ename": "ValueError",
       "evalue": "labels ['bins'] not contained in axis",
       "output_type": "pyerr",
       "traceback": [
        "\u001b[0;31m---------------------------------------------------------------------------\u001b[0m\n\u001b[0;31mValueError\u001b[0m                                Traceback (most recent call last)",
        "\u001b[0;32m<ipython-input-175-bcbe61131846>\u001b[0m in \u001b[0;36m<module>\u001b[0;34m()\u001b[0m\n\u001b[0;32m----> 1\u001b[0;31m \u001b[0mdf_map\u001b[0m \u001b[0;34m=\u001b[0m \u001b[0mdf_map\u001b[0m\u001b[0;34m.\u001b[0m\u001b[0mdrop\u001b[0m\u001b[0;34m(\u001b[0m\u001b[0;34m'bins'\u001b[0m\u001b[0;34m,\u001b[0m\u001b[0;36m1\u001b[0m\u001b[0;34m)\u001b[0m\u001b[0;34m\u001b[0m\u001b[0m\n\u001b[0m",
        "\u001b[0;32m/Users/brandomr/anaconda/lib/python2.7/site-packages/pandas/core/generic.pyc\u001b[0m in \u001b[0;36mdrop\u001b[0;34m(self, labels, axis, level, inplace, **kwargs)\u001b[0m\n\u001b[1;32m   1462\u001b[0m                 \u001b[0mnew_axis\u001b[0m \u001b[0;34m=\u001b[0m \u001b[0maxis\u001b[0m\u001b[0;34m.\u001b[0m\u001b[0mdrop\u001b[0m\u001b[0;34m(\u001b[0m\u001b[0mlabels\u001b[0m\u001b[0;34m,\u001b[0m \u001b[0mlevel\u001b[0m\u001b[0;34m=\u001b[0m\u001b[0mlevel\u001b[0m\u001b[0;34m)\u001b[0m\u001b[0;34m\u001b[0m\u001b[0m\n\u001b[1;32m   1463\u001b[0m             \u001b[0;32melse\u001b[0m\u001b[0;34m:\u001b[0m\u001b[0;34m\u001b[0m\u001b[0m\n\u001b[0;32m-> 1464\u001b[0;31m                 \u001b[0mnew_axis\u001b[0m \u001b[0;34m=\u001b[0m \u001b[0maxis\u001b[0m\u001b[0;34m.\u001b[0m\u001b[0mdrop\u001b[0m\u001b[0;34m(\u001b[0m\u001b[0mlabels\u001b[0m\u001b[0;34m)\u001b[0m\u001b[0;34m\u001b[0m\u001b[0m\n\u001b[0m\u001b[1;32m   1465\u001b[0m             \u001b[0mdropped\u001b[0m \u001b[0;34m=\u001b[0m \u001b[0mself\u001b[0m\u001b[0;34m.\u001b[0m\u001b[0mreindex\u001b[0m\u001b[0;34m(\u001b[0m\u001b[0;34m**\u001b[0m\u001b[0;34m{\u001b[0m\u001b[0maxis_name\u001b[0m\u001b[0;34m:\u001b[0m \u001b[0mnew_axis\u001b[0m\u001b[0;34m}\u001b[0m\u001b[0;34m)\u001b[0m\u001b[0;34m\u001b[0m\u001b[0m\n\u001b[1;32m   1466\u001b[0m             \u001b[0;32mtry\u001b[0m\u001b[0;34m:\u001b[0m\u001b[0;34m\u001b[0m\u001b[0m\n",
        "\u001b[0;32m/Users/brandomr/anaconda/lib/python2.7/site-packages/pandas/core/index.pyc\u001b[0m in \u001b[0;36mdrop\u001b[0;34m(self, labels)\u001b[0m\n\u001b[1;32m   1808\u001b[0m         \u001b[0mmask\u001b[0m \u001b[0;34m=\u001b[0m \u001b[0mindexer\u001b[0m \u001b[0;34m==\u001b[0m \u001b[0;34m-\u001b[0m\u001b[0;36m1\u001b[0m\u001b[0;34m\u001b[0m\u001b[0m\n\u001b[1;32m   1809\u001b[0m         \u001b[0;32mif\u001b[0m \u001b[0mmask\u001b[0m\u001b[0;34m.\u001b[0m\u001b[0many\u001b[0m\u001b[0;34m(\u001b[0m\u001b[0;34m)\u001b[0m\u001b[0;34m:\u001b[0m\u001b[0;34m\u001b[0m\u001b[0m\n\u001b[0;32m-> 1810\u001b[0;31m             \u001b[0;32mraise\u001b[0m \u001b[0mValueError\u001b[0m\u001b[0;34m(\u001b[0m\u001b[0;34m'labels %s not contained in axis'\u001b[0m \u001b[0;34m%\u001b[0m \u001b[0mlabels\u001b[0m\u001b[0;34m[\u001b[0m\u001b[0mmask\u001b[0m\u001b[0;34m]\u001b[0m\u001b[0;34m)\u001b[0m\u001b[0;34m\u001b[0m\u001b[0m\n\u001b[0m\u001b[1;32m   1811\u001b[0m         \u001b[0;32mreturn\u001b[0m \u001b[0mself\u001b[0m\u001b[0;34m.\u001b[0m\u001b[0mdelete\u001b[0m\u001b[0;34m(\u001b[0m\u001b[0mindexer\u001b[0m\u001b[0;34m)\u001b[0m\u001b[0;34m\u001b[0m\u001b[0m\n\u001b[1;32m   1812\u001b[0m \u001b[0;34m\u001b[0m\u001b[0m\n",
        "\u001b[0;31mValueError\u001b[0m: labels ['bins'] not contained in axis"
       ]
      }
     ],
     "prompt_number": 175
    },
    {
     "cell_type": "markdown",
     "metadata": {},
     "source": [
      "Use Jenks natural breaks"
     ]
    },
    {
     "cell_type": "code",
     "collapsed": false,
     "input": [
      "# Calculate Jenks natural breaks for density\n",
      "breaks = nb(\n",
      "    df_map[df_map['Total_pop'].notnull()].Total_pop.values,\n",
      "    initial=300,\n",
      "    k=10)\n",
      "jenks = True"
     ],
     "language": "python",
     "metadata": {},
     "outputs": [],
     "prompt_number": 176
    },
    {
     "cell_type": "markdown",
     "metadata": {},
     "source": [
      "Define my own breaks [even split each 20 percentage points] Note that the bins are the top range so >20, >40, etc"
     ]
    },
    {
     "cell_type": "code",
     "collapsed": false,
     "input": [
      "jenks = False\n",
      "my_bins = [20,40,60,80,100]\n",
      "breaks = mapclassify.User_Defined(df_map[df_map['Muslims_pct'].notnull()].Muslims_pct.values, my_bins)"
     ],
     "language": "python",
     "metadata": {},
     "outputs": [],
     "prompt_number": 131
    },
    {
     "cell_type": "markdown",
     "metadata": {},
     "source": [
      "Add breaks to the dataframe as *bins"
     ]
    },
    {
     "cell_type": "code",
     "collapsed": false,
     "input": [
      "# the notnull method lets us match indices when joining\n",
      "b = pd.DataFrame({'bins': breaks.yb}, index=df_map[df_map['Muslims_pct'].notnull()].index)\n",
      "df_map = df_map.join(b)\n",
      "df_map.bins.fillna(-1, inplace=True)"
     ],
     "language": "python",
     "metadata": {},
     "outputs": [],
     "prompt_number": 177
    },
    {
     "cell_type": "markdown",
     "metadata": {},
     "source": [
      "Create labels for the legend"
     ]
    },
    {
     "cell_type": "code",
     "collapsed": false,
     "input": [
      "if jenks == True:\n",
      "    bin_labels = [\"<= %0.0f\" % b for b in breaks.bins]\n",
      "else: \n",
      "    bin_labels = [\"< %0.0f\" % b for b in breaks.bins]"
     ],
     "language": "python",
     "metadata": {},
     "outputs": [],
     "prompt_number": 165
    },
    {
     "cell_type": "code",
     "collapsed": false,
     "input": [
      "bin_labels"
     ],
     "language": "python",
     "metadata": {},
     "outputs": [
      {
       "metadata": {},
       "output_type": "pyout",
       "prompt_number": 178,
       "text": [
        "['<= 112875',\n",
        " '<= 112875',\n",
        " '<= 274846',\n",
        " '<= 525142',\n",
        " '<= 583378',\n",
        " '<= 583378',\n",
        " '<= 759776',\n",
        " '<= 759776',\n",
        " '<= 784560',\n",
        " '<= 2309809']"
       ]
      }
     ],
     "prompt_number": 178
    },
    {
     "cell_type": "markdown",
     "metadata": {},
     "source": [
      "Plot the map!"
     ]
    },
    {
     "cell_type": "code",
     "collapsed": false,
     "input": [
      "%matplotlib inline"
     ],
     "language": "python",
     "metadata": {},
     "outputs": [],
     "prompt_number": 167
    },
    {
     "cell_type": "code",
     "collapsed": false,
     "input": [
      "print df_map['bins'].min()\n",
      "print df_map['bins'].max()"
     ],
     "language": "python",
     "metadata": {},
     "outputs": [
      {
       "output_type": "stream",
       "stream": "stdout",
       "text": [
        "0\n",
        "9\n"
       ]
      }
     ],
     "prompt_number": 179
    },
    {
     "cell_type": "code",
     "collapsed": false,
     "input": [
      "plt.clf()\n",
      "fig = plt.figure(facecolor='white')\n",
      "ax = fig.add_subplot(111, axisbg='w', frame_on=False)\n",
      "\n",
      "# use a blue colour ramp - we'll be converting it to a map using cmap()\n",
      "# you could also use 'Oranges' or 'Greens'\n",
      "cmap = plt.get_cmap('Blues')\n",
      "# draw wards with grey outlines\n",
      "df_map['patches'] = df_map['poly'].map(lambda x: PolygonPatch(x, ec='#555555', lw=.2, alpha=1., zorder=4))\n",
      "pc = PatchCollection(df_map['patches'], match_original=True)\n",
      "# impose our colour map onto the patch collection\n",
      "norm = Normalize(vmin=df_map['bins'].min(), vmax=df_map['bins'].max())\n",
      "pc.set_facecolor(cmap(norm(df_map['bins'].values)))\n",
      "ax.add_collection(pc)\n",
      "\n",
      "# Add a colour bar\n",
      "cb = colorbar_index(ncolors=len(bin_labels), cmap=cmap, shrink=0.5, labels=bin_labels)\n",
      "cb.ax.tick_params(labelsize=10)\n",
      "\n",
      "\n",
      "# Bin method, copyright and source data info\n",
      "smallprint = ax.text(\n",
      "    1.03, 0,\n",
      "    'This is a map of Sri Lanka',\n",
      "    ha='right', va='bottom',\n",
      "    size=8,\n",
      "    color='#555555',\n",
      "    transform=ax.transAxes)\n",
      "\n",
      "# Draw a map scale\n",
      "m.drawmapscale(\n",
      "    coords[0] + 0.08, coords[1] + 0.215,\n",
      "    coords[0], coords[1],\n",
      "    25.,\n",
      "    barstyle='fancy', labelstyle='simple',\n",
      "    fillcolor1='w', fillcolor2='#555555',\n",
      "    fontcolor='#555555',\n",
      "    zorder=5,\n",
      "    units='mi')\n",
      "# this will set the image width to 722px at 100dpi\n",
      "plt.tight_layout()\n",
      "fig.set_size_inches(5,6)\n",
      "plt.savefig('sri_lanka_map.png', dpi=1000, alpha=True)\n",
      "plt.show()"
     ],
     "language": "python",
     "metadata": {},
     "outputs": [
      {
       "metadata": {},
       "output_type": "display_data",
       "text": [
        "<matplotlib.figure.Figure at 0x10c4f3150>"
       ]
      },
      {
       "metadata": {},
       "output_type": "display_data",
       "png": "[encoded data removed]",
       "text": [
        "<matplotlib.figure.Figure at 0x10c4f36d0>"
       ]
      }
     ],
     "prompt_number": 181
    },
    {
     "cell_type": "code",
     "collapsed": false,
     "input": [
      "plt.close()"
     ],
     "language": "python",
     "metadata": {},
     "outputs": [],
     "prompt_number": 31
    }
   ],
   "metadata": {}
  }
 ]
}